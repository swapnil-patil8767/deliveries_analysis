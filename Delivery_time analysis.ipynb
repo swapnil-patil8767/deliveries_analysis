{
 "cells": [
  {
   "cell_type": "code",
   "execution_count": 96,
   "id": "fc396309",
   "metadata": {},
   "outputs": [],
   "source": [
    "import numpy as np\n",
    "import pandas as pd"
   ]
  },
  {
   "cell_type": "code",
   "execution_count": 97,
   "id": "8557f8c8",
   "metadata": {},
   "outputs": [
    {
     "data": {
      "text/html": [
       "<div>\n",
       "<style scoped>\n",
       "    .dataframe tbody tr th:only-of-type {\n",
       "        vertical-align: middle;\n",
       "    }\n",
       "\n",
       "    .dataframe tbody tr th {\n",
       "        vertical-align: top;\n",
       "    }\n",
       "\n",
       "    .dataframe thead th {\n",
       "        text-align: right;\n",
       "    }\n",
       "</style>\n",
       "<table border=\"1\" class=\"dataframe\">\n",
       "  <thead>\n",
       "    <tr style=\"text-align: right;\">\n",
       "      <th></th>\n",
       "      <th>ID</th>\n",
       "      <th>Delivery_person_ID</th>\n",
       "      <th>Delivery_person_Age</th>\n",
       "      <th>Delivery_person_Ratings</th>\n",
       "      <th>Restaurant_latitude</th>\n",
       "      <th>Restaurant_longitude</th>\n",
       "      <th>Delivery_location_latitude</th>\n",
       "      <th>Delivery_location_longitude</th>\n",
       "      <th>Order_Date</th>\n",
       "      <th>Time_Orderd</th>\n",
       "      <th>Time_Order_picked</th>\n",
       "      <th>Weatherconditions</th>\n",
       "      <th>Road_traffic_density</th>\n",
       "      <th>Vehicle_condition</th>\n",
       "      <th>Type_of_order</th>\n",
       "      <th>Type_of_vehicle</th>\n",
       "      <th>multiple_deliveries</th>\n",
       "      <th>Festival</th>\n",
       "      <th>City</th>\n",
       "      <th>Time_taken(min)</th>\n",
       "    </tr>\n",
       "  </thead>\n",
       "  <tbody>\n",
       "    <tr>\n",
       "      <th>0</th>\n",
       "      <td>0x4607</td>\n",
       "      <td>INDORES13DEL02</td>\n",
       "      <td>37</td>\n",
       "      <td>4.9</td>\n",
       "      <td>22.745049</td>\n",
       "      <td>75.892471</td>\n",
       "      <td>22.765049</td>\n",
       "      <td>75.912471</td>\n",
       "      <td>19-03-2022</td>\n",
       "      <td>11:30:00</td>\n",
       "      <td>11:45:00</td>\n",
       "      <td>conditions Sunny</td>\n",
       "      <td>High</td>\n",
       "      <td>2</td>\n",
       "      <td>Snack</td>\n",
       "      <td>motorcycle</td>\n",
       "      <td>0</td>\n",
       "      <td>No</td>\n",
       "      <td>Urban</td>\n",
       "      <td>(min) 24</td>\n",
       "    </tr>\n",
       "    <tr>\n",
       "      <th>1</th>\n",
       "      <td>0xb379</td>\n",
       "      <td>BANGRES18DEL02</td>\n",
       "      <td>34</td>\n",
       "      <td>4.5</td>\n",
       "      <td>12.913041</td>\n",
       "      <td>77.683237</td>\n",
       "      <td>13.043041</td>\n",
       "      <td>77.813237</td>\n",
       "      <td>25-03-2022</td>\n",
       "      <td>19:45:00</td>\n",
       "      <td>19:50:00</td>\n",
       "      <td>conditions Stormy</td>\n",
       "      <td>Jam</td>\n",
       "      <td>2</td>\n",
       "      <td>Snack</td>\n",
       "      <td>scooter</td>\n",
       "      <td>1</td>\n",
       "      <td>No</td>\n",
       "      <td>Metropolitian</td>\n",
       "      <td>(min) 33</td>\n",
       "    </tr>\n",
       "    <tr>\n",
       "      <th>2</th>\n",
       "      <td>0x5d6d</td>\n",
       "      <td>BANGRES19DEL01</td>\n",
       "      <td>23</td>\n",
       "      <td>4.4</td>\n",
       "      <td>12.914264</td>\n",
       "      <td>77.678400</td>\n",
       "      <td>12.924264</td>\n",
       "      <td>77.688400</td>\n",
       "      <td>19-03-2022</td>\n",
       "      <td>08:30:00</td>\n",
       "      <td>08:45:00</td>\n",
       "      <td>conditions Sandstorms</td>\n",
       "      <td>Low</td>\n",
       "      <td>0</td>\n",
       "      <td>Drinks</td>\n",
       "      <td>motorcycle</td>\n",
       "      <td>1</td>\n",
       "      <td>No</td>\n",
       "      <td>Urban</td>\n",
       "      <td>(min) 26</td>\n",
       "    </tr>\n",
       "    <tr>\n",
       "      <th>3</th>\n",
       "      <td>0x7a6a</td>\n",
       "      <td>COIMBRES13DEL02</td>\n",
       "      <td>38</td>\n",
       "      <td>4.7</td>\n",
       "      <td>11.003669</td>\n",
       "      <td>76.976494</td>\n",
       "      <td>11.053669</td>\n",
       "      <td>77.026494</td>\n",
       "      <td>05-04-2022</td>\n",
       "      <td>18:00:00</td>\n",
       "      <td>18:10:00</td>\n",
       "      <td>conditions Sunny</td>\n",
       "      <td>Medium</td>\n",
       "      <td>0</td>\n",
       "      <td>Buffet</td>\n",
       "      <td>motorcycle</td>\n",
       "      <td>1</td>\n",
       "      <td>No</td>\n",
       "      <td>Metropolitian</td>\n",
       "      <td>(min) 21</td>\n",
       "    </tr>\n",
       "    <tr>\n",
       "      <th>4</th>\n",
       "      <td>0x70a2</td>\n",
       "      <td>CHENRES12DEL01</td>\n",
       "      <td>32</td>\n",
       "      <td>4.6</td>\n",
       "      <td>12.972793</td>\n",
       "      <td>80.249982</td>\n",
       "      <td>13.012793</td>\n",
       "      <td>80.289982</td>\n",
       "      <td>26-03-2022</td>\n",
       "      <td>13:30:00</td>\n",
       "      <td>13:45:00</td>\n",
       "      <td>conditions Cloudy</td>\n",
       "      <td>High</td>\n",
       "      <td>1</td>\n",
       "      <td>Snack</td>\n",
       "      <td>scooter</td>\n",
       "      <td>1</td>\n",
       "      <td>No</td>\n",
       "      <td>Metropolitian</td>\n",
       "      <td>(min) 30</td>\n",
       "    </tr>\n",
       "    <tr>\n",
       "      <th>...</th>\n",
       "      <td>...</td>\n",
       "      <td>...</td>\n",
       "      <td>...</td>\n",
       "      <td>...</td>\n",
       "      <td>...</td>\n",
       "      <td>...</td>\n",
       "      <td>...</td>\n",
       "      <td>...</td>\n",
       "      <td>...</td>\n",
       "      <td>...</td>\n",
       "      <td>...</td>\n",
       "      <td>...</td>\n",
       "      <td>...</td>\n",
       "      <td>...</td>\n",
       "      <td>...</td>\n",
       "      <td>...</td>\n",
       "      <td>...</td>\n",
       "      <td>...</td>\n",
       "      <td>...</td>\n",
       "      <td>...</td>\n",
       "    </tr>\n",
       "    <tr>\n",
       "      <th>45588</th>\n",
       "      <td>0x7c09</td>\n",
       "      <td>JAPRES04DEL01</td>\n",
       "      <td>30</td>\n",
       "      <td>4.8</td>\n",
       "      <td>26.902328</td>\n",
       "      <td>75.794257</td>\n",
       "      <td>26.912328</td>\n",
       "      <td>75.804257</td>\n",
       "      <td>24-03-2022</td>\n",
       "      <td>11:35:00</td>\n",
       "      <td>11:45:00</td>\n",
       "      <td>conditions Windy</td>\n",
       "      <td>High</td>\n",
       "      <td>1</td>\n",
       "      <td>Meal</td>\n",
       "      <td>motorcycle</td>\n",
       "      <td>0</td>\n",
       "      <td>No</td>\n",
       "      <td>Metropolitian</td>\n",
       "      <td>(min) 32</td>\n",
       "    </tr>\n",
       "    <tr>\n",
       "      <th>45589</th>\n",
       "      <td>0xd641</td>\n",
       "      <td>AGRRES16DEL01</td>\n",
       "      <td>21</td>\n",
       "      <td>4.6</td>\n",
       "      <td>0.000000</td>\n",
       "      <td>0.000000</td>\n",
       "      <td>0.070000</td>\n",
       "      <td>0.070000</td>\n",
       "      <td>16-02-2022</td>\n",
       "      <td>19:55:00</td>\n",
       "      <td>20:10:00</td>\n",
       "      <td>conditions Windy</td>\n",
       "      <td>Jam</td>\n",
       "      <td>0</td>\n",
       "      <td>Buffet</td>\n",
       "      <td>motorcycle</td>\n",
       "      <td>1</td>\n",
       "      <td>No</td>\n",
       "      <td>Metropolitian</td>\n",
       "      <td>(min) 36</td>\n",
       "    </tr>\n",
       "    <tr>\n",
       "      <th>45590</th>\n",
       "      <td>0x4f8d</td>\n",
       "      <td>CHENRES08DEL03</td>\n",
       "      <td>30</td>\n",
       "      <td>4.9</td>\n",
       "      <td>13.022394</td>\n",
       "      <td>80.242439</td>\n",
       "      <td>13.052394</td>\n",
       "      <td>80.272439</td>\n",
       "      <td>11-03-2022</td>\n",
       "      <td>23:50:00</td>\n",
       "      <td>00:05:00</td>\n",
       "      <td>conditions Cloudy</td>\n",
       "      <td>Low</td>\n",
       "      <td>1</td>\n",
       "      <td>Drinks</td>\n",
       "      <td>scooter</td>\n",
       "      <td>0</td>\n",
       "      <td>No</td>\n",
       "      <td>Metropolitian</td>\n",
       "      <td>(min) 16</td>\n",
       "    </tr>\n",
       "    <tr>\n",
       "      <th>45591</th>\n",
       "      <td>0x5eee</td>\n",
       "      <td>COIMBRES11DEL01</td>\n",
       "      <td>20</td>\n",
       "      <td>4.7</td>\n",
       "      <td>11.001753</td>\n",
       "      <td>76.986241</td>\n",
       "      <td>11.041753</td>\n",
       "      <td>77.026241</td>\n",
       "      <td>07-03-2022</td>\n",
       "      <td>13:35:00</td>\n",
       "      <td>13:40:00</td>\n",
       "      <td>conditions Cloudy</td>\n",
       "      <td>High</td>\n",
       "      <td>0</td>\n",
       "      <td>Snack</td>\n",
       "      <td>motorcycle</td>\n",
       "      <td>1</td>\n",
       "      <td>No</td>\n",
       "      <td>Metropolitian</td>\n",
       "      <td>(min) 26</td>\n",
       "    </tr>\n",
       "    <tr>\n",
       "      <th>45592</th>\n",
       "      <td>0x5fb2</td>\n",
       "      <td>RANCHIRES09DEL02</td>\n",
       "      <td>23</td>\n",
       "      <td>4.9</td>\n",
       "      <td>23.351058</td>\n",
       "      <td>85.325731</td>\n",
       "      <td>23.431058</td>\n",
       "      <td>85.405731</td>\n",
       "      <td>02-03-2022</td>\n",
       "      <td>17:10:00</td>\n",
       "      <td>17:15:00</td>\n",
       "      <td>conditions Fog</td>\n",
       "      <td>Medium</td>\n",
       "      <td>2</td>\n",
       "      <td>Snack</td>\n",
       "      <td>scooter</td>\n",
       "      <td>1</td>\n",
       "      <td>No</td>\n",
       "      <td>Metropolitian</td>\n",
       "      <td>(min) 36</td>\n",
       "    </tr>\n",
       "  </tbody>\n",
       "</table>\n",
       "<p>45593 rows × 20 columns</p>\n",
       "</div>"
      ],
      "text/plain": [
       "            ID Delivery_person_ID Delivery_person_Age Delivery_person_Ratings  \\\n",
       "0      0x4607     INDORES13DEL02                   37                     4.9   \n",
       "1      0xb379     BANGRES18DEL02                   34                     4.5   \n",
       "2      0x5d6d     BANGRES19DEL01                   23                     4.4   \n",
       "3      0x7a6a    COIMBRES13DEL02                   38                     4.7   \n",
       "4      0x70a2     CHENRES12DEL01                   32                     4.6   \n",
       "...        ...                ...                 ...                     ...   \n",
       "45588  0x7c09      JAPRES04DEL01                   30                     4.8   \n",
       "45589  0xd641      AGRRES16DEL01                   21                     4.6   \n",
       "45590  0x4f8d     CHENRES08DEL03                   30                     4.9   \n",
       "45591  0x5eee    COIMBRES11DEL01                   20                     4.7   \n",
       "45592  0x5fb2   RANCHIRES09DEL02                   23                     4.9   \n",
       "\n",
       "       Restaurant_latitude  Restaurant_longitude  Delivery_location_latitude  \\\n",
       "0                22.745049             75.892471                   22.765049   \n",
       "1                12.913041             77.683237                   13.043041   \n",
       "2                12.914264             77.678400                   12.924264   \n",
       "3                11.003669             76.976494                   11.053669   \n",
       "4                12.972793             80.249982                   13.012793   \n",
       "...                    ...                   ...                         ...   \n",
       "45588            26.902328             75.794257                   26.912328   \n",
       "45589             0.000000              0.000000                    0.070000   \n",
       "45590            13.022394             80.242439                   13.052394   \n",
       "45591            11.001753             76.986241                   11.041753   \n",
       "45592            23.351058             85.325731                   23.431058   \n",
       "\n",
       "       Delivery_location_longitude  Order_Date Time_Orderd Time_Order_picked  \\\n",
       "0                        75.912471  19-03-2022    11:30:00          11:45:00   \n",
       "1                        77.813237  25-03-2022    19:45:00          19:50:00   \n",
       "2                        77.688400  19-03-2022    08:30:00          08:45:00   \n",
       "3                        77.026494  05-04-2022    18:00:00          18:10:00   \n",
       "4                        80.289982  26-03-2022    13:30:00          13:45:00   \n",
       "...                            ...         ...         ...               ...   \n",
       "45588                    75.804257  24-03-2022    11:35:00          11:45:00   \n",
       "45589                     0.070000  16-02-2022    19:55:00          20:10:00   \n",
       "45590                    80.272439  11-03-2022    23:50:00          00:05:00   \n",
       "45591                    77.026241  07-03-2022    13:35:00          13:40:00   \n",
       "45592                    85.405731  02-03-2022    17:10:00          17:15:00   \n",
       "\n",
       "           Weatherconditions Road_traffic_density  Vehicle_condition  \\\n",
       "0           conditions Sunny                High                   2   \n",
       "1          conditions Stormy                 Jam                   2   \n",
       "2      conditions Sandstorms                 Low                   0   \n",
       "3           conditions Sunny              Medium                   0   \n",
       "4          conditions Cloudy                High                   1   \n",
       "...                      ...                  ...                ...   \n",
       "45588       conditions Windy                High                   1   \n",
       "45589       conditions Windy                 Jam                   0   \n",
       "45590      conditions Cloudy                 Low                   1   \n",
       "45591      conditions Cloudy                High                   0   \n",
       "45592         conditions Fog              Medium                   2   \n",
       "\n",
       "      Type_of_order Type_of_vehicle multiple_deliveries Festival  \\\n",
       "0            Snack      motorcycle                    0      No    \n",
       "1            Snack         scooter                    1      No    \n",
       "2           Drinks      motorcycle                    1      No    \n",
       "3           Buffet      motorcycle                    1      No    \n",
       "4            Snack         scooter                    1      No    \n",
       "...             ...             ...                 ...      ...   \n",
       "45588         Meal      motorcycle                    0      No    \n",
       "45589       Buffet      motorcycle                    1      No    \n",
       "45590       Drinks         scooter                    0      No    \n",
       "45591        Snack      motorcycle                    1      No    \n",
       "45592        Snack         scooter                    1      No    \n",
       "\n",
       "                 City Time_taken(min)  \n",
       "0              Urban         (min) 24  \n",
       "1      Metropolitian         (min) 33  \n",
       "2              Urban         (min) 26  \n",
       "3      Metropolitian         (min) 21  \n",
       "4      Metropolitian         (min) 30  \n",
       "...               ...             ...  \n",
       "45588  Metropolitian         (min) 32  \n",
       "45589  Metropolitian         (min) 36  \n",
       "45590  Metropolitian         (min) 16  \n",
       "45591  Metropolitian         (min) 26  \n",
       "45592  Metropolitian         (min) 36  \n",
       "\n",
       "[45593 rows x 20 columns]"
      ]
     },
     "execution_count": 97,
     "metadata": {},
     "output_type": "execute_result"
    }
   ],
   "source": [
    "df=pd.read_csv(\"train.csv\")\n",
    "df"
   ]
  },
  {
   "cell_type": "code",
   "execution_count": 98,
   "id": "7182189e",
   "metadata": {},
   "outputs": [
    {
     "name": "stdout",
     "output_type": "stream",
     "text": [
      "<class 'pandas.core.frame.DataFrame'>\n",
      "RangeIndex: 45593 entries, 0 to 45592\n",
      "Data columns (total 20 columns):\n",
      " #   Column                       Non-Null Count  Dtype  \n",
      "---  ------                       --------------  -----  \n",
      " 0   ID                           45593 non-null  object \n",
      " 1   Delivery_person_ID           45593 non-null  object \n",
      " 2   Delivery_person_Age          45593 non-null  object \n",
      " 3   Delivery_person_Ratings      45593 non-null  object \n",
      " 4   Restaurant_latitude          45593 non-null  float64\n",
      " 5   Restaurant_longitude         45593 non-null  float64\n",
      " 6   Delivery_location_latitude   45593 non-null  float64\n",
      " 7   Delivery_location_longitude  45593 non-null  float64\n",
      " 8   Order_Date                   45593 non-null  object \n",
      " 9   Time_Orderd                  45593 non-null  object \n",
      " 10  Time_Order_picked            45593 non-null  object \n",
      " 11  Weatherconditions            45593 non-null  object \n",
      " 12  Road_traffic_density         45593 non-null  object \n",
      " 13  Vehicle_condition            45593 non-null  int64  \n",
      " 14  Type_of_order                45593 non-null  object \n",
      " 15  Type_of_vehicle              45593 non-null  object \n",
      " 16  multiple_deliveries          45593 non-null  object \n",
      " 17  Festival                     45593 non-null  object \n",
      " 18  City                         45593 non-null  object \n",
      " 19  Time_taken(min)              45593 non-null  object \n",
      "dtypes: float64(4), int64(1), object(15)\n",
      "memory usage: 7.0+ MB\n"
     ]
    }
   ],
   "source": [
    "df.info()"
   ]
  },
  {
   "cell_type": "code",
   "execution_count": null,
   "id": "aad52ba2",
   "metadata": {},
   "outputs": [],
   "source": [
    "import pandas as pd\n",
    "import reverse_geocoder as rg\n",
    "\n",
    "# 1. Combine all coordinate pairs (restaurant + delivery)\n",
    "coords = list(zip(df['Restaurant_latitude'], df['Restaurant_longitude']))\n",
    "coords += list(zip(df['Delivery_location_latitude'], df['Delivery_location_longitude']))\n",
    "\n",
    "\n",
    "results = rg.search(coords)  \n",
    "\n",
    "half = len(results) // 2\n",
    "rest_res = results[:half]\n",
    "deliv_res = results[half:]\n",
    "\n",
    "\n",
    "df['Restaurant_City'] = [r['name'] for r in rest_res]\n",
    "df['Restaurant_State'] = [r['admin1'] for r in rest_res]\n",
    "df['Delivery_City'] = [r['name'] for r in deliv_res]\n",
    "df['Delivery_State'] = [r['admin1'] for r in deliv_res]\n"
   ]
  },
  {
   "cell_type": "code",
   "execution_count": 100,
   "id": "bc293ef0",
   "metadata": {},
   "outputs": [
    {
     "data": {
      "text/html": [
       "<div>\n",
       "<style scoped>\n",
       "    .dataframe tbody tr th:only-of-type {\n",
       "        vertical-align: middle;\n",
       "    }\n",
       "\n",
       "    .dataframe tbody tr th {\n",
       "        vertical-align: top;\n",
       "    }\n",
       "\n",
       "    .dataframe thead th {\n",
       "        text-align: right;\n",
       "    }\n",
       "</style>\n",
       "<table border=\"1\" class=\"dataframe\">\n",
       "  <thead>\n",
       "    <tr style=\"text-align: right;\">\n",
       "      <th></th>\n",
       "      <th>ID</th>\n",
       "      <th>Delivery_person_ID</th>\n",
       "      <th>Delivery_person_Age</th>\n",
       "      <th>Delivery_person_Ratings</th>\n",
       "      <th>Restaurant_latitude</th>\n",
       "      <th>Restaurant_longitude</th>\n",
       "      <th>Delivery_location_latitude</th>\n",
       "      <th>Delivery_location_longitude</th>\n",
       "      <th>Order_Date</th>\n",
       "      <th>Time_Orderd</th>\n",
       "      <th>...</th>\n",
       "      <th>Type_of_order</th>\n",
       "      <th>Type_of_vehicle</th>\n",
       "      <th>multiple_deliveries</th>\n",
       "      <th>Festival</th>\n",
       "      <th>City</th>\n",
       "      <th>Time_taken(min)</th>\n",
       "      <th>Restaurant_City</th>\n",
       "      <th>Restaurant_State</th>\n",
       "      <th>Delivery_City</th>\n",
       "      <th>Delivery_State</th>\n",
       "    </tr>\n",
       "  </thead>\n",
       "  <tbody>\n",
       "    <tr>\n",
       "      <th>0</th>\n",
       "      <td>0x4607</td>\n",
       "      <td>INDORES13DEL02</td>\n",
       "      <td>37</td>\n",
       "      <td>4.9</td>\n",
       "      <td>22.745049</td>\n",
       "      <td>75.892471</td>\n",
       "      <td>22.765049</td>\n",
       "      <td>75.912471</td>\n",
       "      <td>19-03-2022</td>\n",
       "      <td>11:30:00</td>\n",
       "      <td>...</td>\n",
       "      <td>Snack</td>\n",
       "      <td>motorcycle</td>\n",
       "      <td>0</td>\n",
       "      <td>No</td>\n",
       "      <td>Urban</td>\n",
       "      <td>(min) 24</td>\n",
       "      <td>Indore</td>\n",
       "      <td>Madhya Pradesh</td>\n",
       "      <td>Indore</td>\n",
       "      <td>Madhya Pradesh</td>\n",
       "    </tr>\n",
       "    <tr>\n",
       "      <th>1</th>\n",
       "      <td>0xb379</td>\n",
       "      <td>BANGRES18DEL02</td>\n",
       "      <td>34</td>\n",
       "      <td>4.5</td>\n",
       "      <td>12.913041</td>\n",
       "      <td>77.683237</td>\n",
       "      <td>13.043041</td>\n",
       "      <td>77.813237</td>\n",
       "      <td>25-03-2022</td>\n",
       "      <td>19:45:00</td>\n",
       "      <td>...</td>\n",
       "      <td>Snack</td>\n",
       "      <td>scooter</td>\n",
       "      <td>1</td>\n",
       "      <td>No</td>\n",
       "      <td>Metropolitian</td>\n",
       "      <td>(min) 33</td>\n",
       "      <td>Bangalore</td>\n",
       "      <td>Karnataka</td>\n",
       "      <td>Hoskote</td>\n",
       "      <td>Karnataka</td>\n",
       "    </tr>\n",
       "    <tr>\n",
       "      <th>2</th>\n",
       "      <td>0x5d6d</td>\n",
       "      <td>BANGRES19DEL01</td>\n",
       "      <td>23</td>\n",
       "      <td>4.4</td>\n",
       "      <td>12.914264</td>\n",
       "      <td>77.678400</td>\n",
       "      <td>12.924264</td>\n",
       "      <td>77.688400</td>\n",
       "      <td>19-03-2022</td>\n",
       "      <td>08:30:00</td>\n",
       "      <td>...</td>\n",
       "      <td>Drinks</td>\n",
       "      <td>motorcycle</td>\n",
       "      <td>1</td>\n",
       "      <td>No</td>\n",
       "      <td>Urban</td>\n",
       "      <td>(min) 26</td>\n",
       "      <td>Bangalore</td>\n",
       "      <td>Karnataka</td>\n",
       "      <td>Bangalore</td>\n",
       "      <td>Karnataka</td>\n",
       "    </tr>\n",
       "    <tr>\n",
       "      <th>3</th>\n",
       "      <td>0x7a6a</td>\n",
       "      <td>COIMBRES13DEL02</td>\n",
       "      <td>38</td>\n",
       "      <td>4.7</td>\n",
       "      <td>11.003669</td>\n",
       "      <td>76.976494</td>\n",
       "      <td>11.053669</td>\n",
       "      <td>77.026494</td>\n",
       "      <td>05-04-2022</td>\n",
       "      <td>18:00:00</td>\n",
       "      <td>...</td>\n",
       "      <td>Buffet</td>\n",
       "      <td>motorcycle</td>\n",
       "      <td>1</td>\n",
       "      <td>No</td>\n",
       "      <td>Metropolitian</td>\n",
       "      <td>(min) 21</td>\n",
       "      <td>Coimbatore</td>\n",
       "      <td>Tamil Nadu</td>\n",
       "      <td>Irugur</td>\n",
       "      <td>Tamil Nadu</td>\n",
       "    </tr>\n",
       "    <tr>\n",
       "      <th>4</th>\n",
       "      <td>0x70a2</td>\n",
       "      <td>CHENRES12DEL01</td>\n",
       "      <td>32</td>\n",
       "      <td>4.6</td>\n",
       "      <td>12.972793</td>\n",
       "      <td>80.249982</td>\n",
       "      <td>13.012793</td>\n",
       "      <td>80.289982</td>\n",
       "      <td>26-03-2022</td>\n",
       "      <td>13:30:00</td>\n",
       "      <td>...</td>\n",
       "      <td>Snack</td>\n",
       "      <td>scooter</td>\n",
       "      <td>1</td>\n",
       "      <td>No</td>\n",
       "      <td>Metropolitian</td>\n",
       "      <td>(min) 30</td>\n",
       "      <td>Perungudi</td>\n",
       "      <td>Tamil Nadu</td>\n",
       "      <td>Gandhi Nagar</td>\n",
       "      <td>Tamil Nadu</td>\n",
       "    </tr>\n",
       "    <tr>\n",
       "      <th>...</th>\n",
       "      <td>...</td>\n",
       "      <td>...</td>\n",
       "      <td>...</td>\n",
       "      <td>...</td>\n",
       "      <td>...</td>\n",
       "      <td>...</td>\n",
       "      <td>...</td>\n",
       "      <td>...</td>\n",
       "      <td>...</td>\n",
       "      <td>...</td>\n",
       "      <td>...</td>\n",
       "      <td>...</td>\n",
       "      <td>...</td>\n",
       "      <td>...</td>\n",
       "      <td>...</td>\n",
       "      <td>...</td>\n",
       "      <td>...</td>\n",
       "      <td>...</td>\n",
       "      <td>...</td>\n",
       "      <td>...</td>\n",
       "      <td>...</td>\n",
       "    </tr>\n",
       "    <tr>\n",
       "      <th>45588</th>\n",
       "      <td>0x7c09</td>\n",
       "      <td>JAPRES04DEL01</td>\n",
       "      <td>30</td>\n",
       "      <td>4.8</td>\n",
       "      <td>26.902328</td>\n",
       "      <td>75.794257</td>\n",
       "      <td>26.912328</td>\n",
       "      <td>75.804257</td>\n",
       "      <td>24-03-2022</td>\n",
       "      <td>11:35:00</td>\n",
       "      <td>...</td>\n",
       "      <td>Meal</td>\n",
       "      <td>motorcycle</td>\n",
       "      <td>0</td>\n",
       "      <td>No</td>\n",
       "      <td>Metropolitian</td>\n",
       "      <td>(min) 32</td>\n",
       "      <td>Jaipur</td>\n",
       "      <td>Rajasthan</td>\n",
       "      <td>Jaipur</td>\n",
       "      <td>Rajasthan</td>\n",
       "    </tr>\n",
       "    <tr>\n",
       "      <th>45589</th>\n",
       "      <td>0xd641</td>\n",
       "      <td>AGRRES16DEL01</td>\n",
       "      <td>21</td>\n",
       "      <td>4.6</td>\n",
       "      <td>0.000000</td>\n",
       "      <td>0.000000</td>\n",
       "      <td>0.070000</td>\n",
       "      <td>0.070000</td>\n",
       "      <td>16-02-2022</td>\n",
       "      <td>19:55:00</td>\n",
       "      <td>...</td>\n",
       "      <td>Buffet</td>\n",
       "      <td>motorcycle</td>\n",
       "      <td>1</td>\n",
       "      <td>No</td>\n",
       "      <td>Metropolitian</td>\n",
       "      <td>(min) 36</td>\n",
       "      <td>Takoradi</td>\n",
       "      <td>Western</td>\n",
       "      <td>Takoradi</td>\n",
       "      <td>Western</td>\n",
       "    </tr>\n",
       "    <tr>\n",
       "      <th>45590</th>\n",
       "      <td>0x4f8d</td>\n",
       "      <td>CHENRES08DEL03</td>\n",
       "      <td>30</td>\n",
       "      <td>4.9</td>\n",
       "      <td>13.022394</td>\n",
       "      <td>80.242439</td>\n",
       "      <td>13.052394</td>\n",
       "      <td>80.272439</td>\n",
       "      <td>11-03-2022</td>\n",
       "      <td>23:50:00</td>\n",
       "      <td>...</td>\n",
       "      <td>Drinks</td>\n",
       "      <td>scooter</td>\n",
       "      <td>0</td>\n",
       "      <td>No</td>\n",
       "      <td>Metropolitian</td>\n",
       "      <td>(min) 16</td>\n",
       "      <td>Gandhi Nagar</td>\n",
       "      <td>Tamil Nadu</td>\n",
       "      <td>Chennai</td>\n",
       "      <td>Tamil Nadu</td>\n",
       "    </tr>\n",
       "    <tr>\n",
       "      <th>45591</th>\n",
       "      <td>0x5eee</td>\n",
       "      <td>COIMBRES11DEL01</td>\n",
       "      <td>20</td>\n",
       "      <td>4.7</td>\n",
       "      <td>11.001753</td>\n",
       "      <td>76.986241</td>\n",
       "      <td>11.041753</td>\n",
       "      <td>77.026241</td>\n",
       "      <td>07-03-2022</td>\n",
       "      <td>13:35:00</td>\n",
       "      <td>...</td>\n",
       "      <td>Snack</td>\n",
       "      <td>motorcycle</td>\n",
       "      <td>1</td>\n",
       "      <td>No</td>\n",
       "      <td>Metropolitian</td>\n",
       "      <td>(min) 26</td>\n",
       "      <td>Coimbatore</td>\n",
       "      <td>Tamil Nadu</td>\n",
       "      <td>Singanallur</td>\n",
       "      <td>Tamil Nadu</td>\n",
       "    </tr>\n",
       "    <tr>\n",
       "      <th>45592</th>\n",
       "      <td>0x5fb2</td>\n",
       "      <td>RANCHIRES09DEL02</td>\n",
       "      <td>23</td>\n",
       "      <td>4.9</td>\n",
       "      <td>23.351058</td>\n",
       "      <td>85.325731</td>\n",
       "      <td>23.431058</td>\n",
       "      <td>85.405731</td>\n",
       "      <td>02-03-2022</td>\n",
       "      <td>17:10:00</td>\n",
       "      <td>...</td>\n",
       "      <td>Snack</td>\n",
       "      <td>scooter</td>\n",
       "      <td>1</td>\n",
       "      <td>No</td>\n",
       "      <td>Metropolitian</td>\n",
       "      <td>(min) 36</td>\n",
       "      <td>Ranchi</td>\n",
       "      <td>Jharkhand</td>\n",
       "      <td>Kanke</td>\n",
       "      <td>Jharkhand</td>\n",
       "    </tr>\n",
       "  </tbody>\n",
       "</table>\n",
       "<p>45593 rows × 24 columns</p>\n",
       "</div>"
      ],
      "text/plain": [
       "            ID Delivery_person_ID Delivery_person_Age Delivery_person_Ratings  \\\n",
       "0      0x4607     INDORES13DEL02                   37                     4.9   \n",
       "1      0xb379     BANGRES18DEL02                   34                     4.5   \n",
       "2      0x5d6d     BANGRES19DEL01                   23                     4.4   \n",
       "3      0x7a6a    COIMBRES13DEL02                   38                     4.7   \n",
       "4      0x70a2     CHENRES12DEL01                   32                     4.6   \n",
       "...        ...                ...                 ...                     ...   \n",
       "45588  0x7c09      JAPRES04DEL01                   30                     4.8   \n",
       "45589  0xd641      AGRRES16DEL01                   21                     4.6   \n",
       "45590  0x4f8d     CHENRES08DEL03                   30                     4.9   \n",
       "45591  0x5eee    COIMBRES11DEL01                   20                     4.7   \n",
       "45592  0x5fb2   RANCHIRES09DEL02                   23                     4.9   \n",
       "\n",
       "       Restaurant_latitude  Restaurant_longitude  Delivery_location_latitude  \\\n",
       "0                22.745049             75.892471                   22.765049   \n",
       "1                12.913041             77.683237                   13.043041   \n",
       "2                12.914264             77.678400                   12.924264   \n",
       "3                11.003669             76.976494                   11.053669   \n",
       "4                12.972793             80.249982                   13.012793   \n",
       "...                    ...                   ...                         ...   \n",
       "45588            26.902328             75.794257                   26.912328   \n",
       "45589             0.000000              0.000000                    0.070000   \n",
       "45590            13.022394             80.242439                   13.052394   \n",
       "45591            11.001753             76.986241                   11.041753   \n",
       "45592            23.351058             85.325731                   23.431058   \n",
       "\n",
       "       Delivery_location_longitude  Order_Date Time_Orderd  ... Type_of_order  \\\n",
       "0                        75.912471  19-03-2022    11:30:00  ...        Snack    \n",
       "1                        77.813237  25-03-2022    19:45:00  ...        Snack    \n",
       "2                        77.688400  19-03-2022    08:30:00  ...       Drinks    \n",
       "3                        77.026494  05-04-2022    18:00:00  ...       Buffet    \n",
       "4                        80.289982  26-03-2022    13:30:00  ...        Snack    \n",
       "...                            ...         ...         ...  ...           ...   \n",
       "45588                    75.804257  24-03-2022    11:35:00  ...         Meal    \n",
       "45589                     0.070000  16-02-2022    19:55:00  ...       Buffet    \n",
       "45590                    80.272439  11-03-2022    23:50:00  ...       Drinks    \n",
       "45591                    77.026241  07-03-2022    13:35:00  ...        Snack    \n",
       "45592                    85.405731  02-03-2022    17:10:00  ...        Snack    \n",
       "\n",
       "      Type_of_vehicle multiple_deliveries  Festival            City  \\\n",
       "0         motorcycle                    0       No           Urban    \n",
       "1            scooter                    1       No   Metropolitian    \n",
       "2         motorcycle                    1       No           Urban    \n",
       "3         motorcycle                    1       No   Metropolitian    \n",
       "4            scooter                    1       No   Metropolitian    \n",
       "...               ...                 ...       ...             ...   \n",
       "45588     motorcycle                    0       No   Metropolitian    \n",
       "45589     motorcycle                    1       No   Metropolitian    \n",
       "45590        scooter                    0       No   Metropolitian    \n",
       "45591     motorcycle                    1       No   Metropolitian    \n",
       "45592        scooter                    1       No   Metropolitian    \n",
       "\n",
       "      Time_taken(min) Restaurant_City Restaurant_State Delivery_City  \\\n",
       "0            (min) 24          Indore   Madhya Pradesh        Indore   \n",
       "1            (min) 33       Bangalore        Karnataka       Hoskote   \n",
       "2            (min) 26       Bangalore        Karnataka     Bangalore   \n",
       "3            (min) 21      Coimbatore       Tamil Nadu        Irugur   \n",
       "4            (min) 30       Perungudi       Tamil Nadu  Gandhi Nagar   \n",
       "...               ...             ...              ...           ...   \n",
       "45588        (min) 32          Jaipur        Rajasthan        Jaipur   \n",
       "45589        (min) 36        Takoradi          Western      Takoradi   \n",
       "45590        (min) 16    Gandhi Nagar       Tamil Nadu       Chennai   \n",
       "45591        (min) 26      Coimbatore       Tamil Nadu   Singanallur   \n",
       "45592        (min) 36          Ranchi        Jharkhand         Kanke   \n",
       "\n",
       "       Delivery_State  \n",
       "0      Madhya Pradesh  \n",
       "1           Karnataka  \n",
       "2           Karnataka  \n",
       "3          Tamil Nadu  \n",
       "4          Tamil Nadu  \n",
       "...               ...  \n",
       "45588       Rajasthan  \n",
       "45589         Western  \n",
       "45590      Tamil Nadu  \n",
       "45591      Tamil Nadu  \n",
       "45592       Jharkhand  \n",
       "\n",
       "[45593 rows x 24 columns]"
      ]
     },
     "execution_count": 100,
     "metadata": {},
     "output_type": "execute_result"
    }
   ],
   "source": [
    "df\n"
   ]
  },
  {
   "cell_type": "code",
   "execution_count": 101,
   "id": "c39d8c40",
   "metadata": {},
   "outputs": [],
   "source": [
    "df[\"Time_taken(min)\"]=df[\"Time_taken(min)\"].str.extract(r'(\\d+)').astype(int)"
   ]
  },
  {
   "cell_type": "code",
   "execution_count": 102,
   "id": "67b12169",
   "metadata": {},
   "outputs": [
    {
     "data": {
      "text/plain": [
       "0        19-03-2022\n",
       "1        25-03-2022\n",
       "2        19-03-2022\n",
       "3        05-04-2022\n",
       "4        26-03-2022\n",
       "            ...    \n",
       "45588    24-03-2022\n",
       "45589    16-02-2022\n",
       "45590    11-03-2022\n",
       "45591    07-03-2022\n",
       "45592    02-03-2022\n",
       "Name: Order_Date, Length: 45593, dtype: object"
      ]
     },
     "execution_count": 102,
     "metadata": {},
     "output_type": "execute_result"
    }
   ],
   "source": [
    "df[\"Order_Date\"]"
   ]
  },
  {
   "cell_type": "code",
   "execution_count": 103,
   "id": "8f5a7906",
   "metadata": {},
   "outputs": [
    {
     "name": "stderr",
     "output_type": "stream",
     "text": [
      "C:\\Users\\Akashay\\AppData\\Local\\Temp\\ipykernel_9728\\1138427390.py:1: UserWarning: Parsing dates in %d-%m-%Y format when dayfirst=False (the default) was specified. Pass `dayfirst=True` or specify a format to silence this warning.\n",
      "  df[\"Order_Date\"]=pd.to_datetime(df[\"Order_Date\"])\n"
     ]
    }
   ],
   "source": [
    "df[\"Order_Date\"]=pd.to_datetime(df[\"Order_Date\"])\n"
   ]
  },
  {
   "cell_type": "code",
   "execution_count": 104,
   "id": "1d2440de",
   "metadata": {},
   "outputs": [
    {
     "data": {
      "text/plain": [
       "array(['11:30:00', '19:45:00', '08:30:00', '18:00:00', '13:30:00',\n",
       "       '21:20:00', '19:15:00', '17:25:00', '20:55:00', '21:55:00',\n",
       "       '14:55:00', '17:30:00', '09:20:00', '19:50:00', '20:25:00',\n",
       "       '20:30:00', '20:40:00', '21:15:00', '20:20:00', '22:30:00',\n",
       "       '08:15:00', '19:30:00', '12:25:00', '18:35:00', '20:35:00',\n",
       "       '23:20:00', '23:35:00', '22:35:00', '23:25:00', '13:35:00',\n",
       "       '21:35:00', '18:55:00', '14:15:00', '11:00:00', '09:45:00',\n",
       "       '08:40:00', '23:00:00', 'NaN ', '19:10:00', '10:55:00', '21:40:00',\n",
       "       '19:00:00', '16:45:00', '15:10:00', '22:45:00', '22:10:00',\n",
       "       '20:45:00', '22:50:00', '17:55:00', '09:25:00', '20:15:00',\n",
       "       '22:25:00', '22:40:00', '23:50:00', '15:25:00', '10:20:00',\n",
       "       '10:40:00', '15:55:00', '20:10:00', '12:10:00', '15:30:00',\n",
       "       '10:35:00', '21:10:00', '20:50:00', '12:35:00', '21:00:00',\n",
       "       '23:40:00', '18:15:00', '18:20:00', '11:45:00', '12:45:00',\n",
       "       '23:30:00', '10:50:00', '21:25:00', '10:10:00', '17:50:00',\n",
       "       '22:20:00', '12:40:00', '23:55:00', '10:25:00', '08:45:00',\n",
       "       '23:45:00', '19:55:00', '22:15:00', '23:10:00', '09:15:00',\n",
       "       '18:25:00', '18:45:00', '16:50:00', '00:00:00', '14:20:00',\n",
       "       '10:15:00', '08:50:00', '09:00:00', '17:45:00', '16:35:00',\n",
       "       '21:45:00', '19:40:00', '14:50:00', '18:10:00', '12:20:00',\n",
       "       '12:50:00', '09:10:00', '12:30:00', '17:10:00', '17:20:00',\n",
       "       '18:30:00', '13:10:00', '19:35:00', '09:50:00', '15:00:00',\n",
       "       '20:00:00', '10:30:00', '09:40:00', '15:35:00', '16:55:00',\n",
       "       '22:55:00', '16:00:00', '17:15:00', '21:30:00', '18:40:00',\n",
       "       '11:10:00', '13:50:00', '10:00:00', '21:50:00', '11:50:00',\n",
       "       '22:00:00', '08:25:00', '11:20:00', '11:55:00', '09:30:00',\n",
       "       '08:20:00', '08:10:00', '11:40:00', '23:15:00', '19:20:00',\n",
       "       '12:15:00', '11:35:00', '11:15:00', '17:35:00', '17:40:00',\n",
       "       '14:40:00', '18:50:00', '11:25:00', '14:25:00', '12:00:00',\n",
       "       '16:10:00', '19:25:00', '08:55:00', '13:40:00', '17:00:00',\n",
       "       '09:35:00', '08:35:00', '16:15:00', '13:20:00', '15:50:00',\n",
       "       '15:20:00', '16:20:00', '14:30:00', '15:45:00', '16:40:00',\n",
       "       '13:00:00', '12:55:00', '10:45:00', '13:25:00', '09:55:00',\n",
       "       '15:15:00', '13:15:00', '14:00:00', '15:40:00', '16:25:00',\n",
       "       '14:10:00', '13:45:00', '13:55:00', '14:35:00', '16:30:00',\n",
       "       '14:45:00'], dtype=object)"
      ]
     },
     "execution_count": 104,
     "metadata": {},
     "output_type": "execute_result"
    }
   ],
   "source": [
    "df[\"Time_Orderd\"].unique()"
   ]
  },
  {
   "cell_type": "code",
   "execution_count": null,
   "id": "f3a5eaec",
   "metadata": {},
   "outputs": [],
   "source": [
    "\n",
    "\n",
    "\n",
    "df = df[df[\"Time_Orderd\"].notna()]\n",
    "df = df[df[\"Time_Orderd\"] != \"NaN \"]\n",
    "\n",
    "df[\"Time_Orderd\"] = pd.to_datetime(df[\"Time_Orderd\"], format=\"%H:%M:%S\", errors=\"coerce\")\n"
   ]
  },
  {
   "cell_type": "code",
   "execution_count": 106,
   "id": "bbc16ab1",
   "metadata": {},
   "outputs": [],
   "source": [
    "df['Time_Order_picked'] = pd.to_datetime(df['Time_Order_picked'], format='%H:%M:%S', errors='coerce')\n"
   ]
  },
  {
   "cell_type": "code",
   "execution_count": 107,
   "id": "8a5b35ba",
   "metadata": {},
   "outputs": [
    {
     "name": "stdout",
     "output_type": "stream",
     "text": [
      "<class 'pandas.core.frame.DataFrame'>\n",
      "Index: 43862 entries, 0 to 45592\n",
      "Data columns (total 24 columns):\n",
      " #   Column                       Non-Null Count  Dtype         \n",
      "---  ------                       --------------  -----         \n",
      " 0   ID                           43862 non-null  object        \n",
      " 1   Delivery_person_ID           43862 non-null  object        \n",
      " 2   Delivery_person_Age          43862 non-null  object        \n",
      " 3   Delivery_person_Ratings      43862 non-null  object        \n",
      " 4   Restaurant_latitude          43862 non-null  float64       \n",
      " 5   Restaurant_longitude         43862 non-null  float64       \n",
      " 6   Delivery_location_latitude   43862 non-null  float64       \n",
      " 7   Delivery_location_longitude  43862 non-null  float64       \n",
      " 8   Order_Date                   43862 non-null  datetime64[ns]\n",
      " 9   Time_Orderd                  43862 non-null  datetime64[ns]\n",
      " 10  Time_Order_picked            43862 non-null  datetime64[ns]\n",
      " 11  Weatherconditions            43862 non-null  object        \n",
      " 12  Road_traffic_density         43862 non-null  object        \n",
      " 13  Vehicle_condition            43862 non-null  int64         \n",
      " 14  Type_of_order                43862 non-null  object        \n",
      " 15  Type_of_vehicle              43862 non-null  object        \n",
      " 16  multiple_deliveries          43862 non-null  object        \n",
      " 17  Festival                     43862 non-null  object        \n",
      " 18  City                         43862 non-null  object        \n",
      " 19  Time_taken(min)              43862 non-null  int32         \n",
      " 20  Restaurant_City              43862 non-null  object        \n",
      " 21  Restaurant_State             43862 non-null  object        \n",
      " 22  Delivery_City                43862 non-null  object        \n",
      " 23  Delivery_State               43862 non-null  object        \n",
      "dtypes: datetime64[ns](3), float64(4), int32(1), int64(1), object(15)\n",
      "memory usage: 8.2+ MB\n"
     ]
    }
   ],
   "source": [
    "df.info()"
   ]
  },
  {
   "cell_type": "code",
   "execution_count": 109,
   "id": "27eddb77",
   "metadata": {},
   "outputs": [
    {
     "data": {
      "text/plain": [
       "26.293830650677123"
      ]
     },
     "execution_count": 109,
     "metadata": {},
     "output_type": "execute_result"
    }
   ],
   "source": [
    "df[\"Time_taken(min)\"].mean()"
   ]
  },
  {
   "cell_type": "code",
   "execution_count": 110,
   "id": "a4569ef9",
   "metadata": {},
   "outputs": [
    {
     "data": {
      "text/plain": [
       "10"
      ]
     },
     "execution_count": 110,
     "metadata": {},
     "output_type": "execute_result"
    }
   ],
   "source": [
    "df[\"Time_taken(min)\"].min()\n"
   ]
  },
  {
   "cell_type": "code",
   "execution_count": 111,
   "id": "4bbbc946",
   "metadata": {},
   "outputs": [
    {
     "data": {
      "text/plain": [
       "54"
      ]
     },
     "execution_count": 111,
     "metadata": {},
     "output_type": "execute_result"
    }
   ],
   "source": [
    "df[\"Time_taken(min)\"].max()"
   ]
  },
  {
   "cell_type": "code",
   "execution_count": 112,
   "id": "cf20ffc9",
   "metadata": {},
   "outputs": [
    {
     "data": {
      "text/plain": [
       "32.0"
      ]
     },
     "execution_count": 112,
     "metadata": {},
     "output_type": "execute_result"
    }
   ],
   "source": [
    "delay_order_theshold=df[\"Time_taken(min)\"].quantile(0.75)\n",
    "delay_order_theshold"
   ]
  },
  {
   "cell_type": "code",
   "execution_count": 113,
   "id": "30e087dd",
   "metadata": {},
   "outputs": [
    {
     "data": {
      "text/plain": [
       "0        False\n",
       "1         True\n",
       "2        False\n",
       "3        False\n",
       "4        False\n",
       "         ...  \n",
       "45588    False\n",
       "45589     True\n",
       "45590    False\n",
       "45591    False\n",
       "45592     True\n",
       "Name: is_delayed, Length: 43862, dtype: bool"
      ]
     },
     "execution_count": 113,
     "metadata": {},
     "output_type": "execute_result"
    }
   ],
   "source": [
    "df['is_delayed'] = df['Time_taken(min)'] > delay_order_theshold\n",
    "df['is_delayed']"
   ]
  },
  {
   "cell_type": "code",
   "execution_count": 114,
   "id": "315cdbf8",
   "metadata": {},
   "outputs": [
    {
     "data": {
      "text/plain": [
       "10842"
      ]
     },
     "execution_count": 114,
     "metadata": {},
     "output_type": "execute_result"
    }
   ],
   "source": [
    "df[df[\"Time_taken(min)\"]>delay_order_theshold].shape[0]"
   ]
  },
  {
   "cell_type": "code",
   "execution_count": 115,
   "id": "37ea5d35",
   "metadata": {},
   "outputs": [
    {
     "data": {
      "text/plain": [
       "24.718435091879076"
      ]
     },
     "execution_count": 115,
     "metadata": {},
     "output_type": "execute_result"
    }
   ],
   "source": [
    "(df[df[\"Time_taken(min)\"]>delay_order_theshold].shape[0]/df['Time_taken(min)'].shape[0])*100"
   ]
  },
  {
   "cell_type": "code",
   "execution_count": 116,
   "id": "87c4f95d",
   "metadata": {},
   "outputs": [
    {
     "data": {
      "text/plain": [
       "Weatherconditions\n",
       "conditions Cloudy        28.939638\n",
       "conditions Fog           28.931915\n",
       "conditions Sandstorms    25.890734\n",
       "conditions Stormy        25.858552\n",
       "conditions Sunny         21.847517\n",
       "conditions Windy         26.104537\n",
       "Name: Time_taken(min), dtype: float64"
      ]
     },
     "execution_count": 116,
     "metadata": {},
     "output_type": "execute_result"
    }
   ],
   "source": [
    "df.groupby(\"Weatherconditions\")[\"Time_taken(min)\"].mean()"
   ]
  },
  {
   "cell_type": "code",
   "execution_count": 117,
   "id": "c26f73a0",
   "metadata": {},
   "outputs": [
    {
     "data": {
      "text/plain": [
       "Weatherconditions\n",
       "conditions Fog           38.215623\n",
       "conditions Cloudy        37.580052\n",
       "conditions Windy         21.197076\n",
       "conditions Stormy        20.264793\n",
       "conditions Sandstorms    20.178449\n",
       "conditions Sunny         10.128007\n",
       "Name: is_delayed, dtype: float64"
      ]
     },
     "execution_count": 117,
     "metadata": {},
     "output_type": "execute_result"
    }
   ],
   "source": [
    "(df.groupby('Weatherconditions')['is_delayed'].mean() * 100).sort_values(ascending=False)"
   ]
  },
  {
   "cell_type": "code",
   "execution_count": 118,
   "id": "cca97c61",
   "metadata": {},
   "outputs": [
    {
     "data": {
      "text/plain": [
       "Road_traffic_density\n",
       "High       27.208468\n",
       "Jam        31.154348\n",
       "Low        21.277453\n",
       "Medium     26.717925\n",
       "Name: Time_taken(min), dtype: float64"
      ]
     },
     "execution_count": 118,
     "metadata": {},
     "output_type": "execute_result"
    }
   ],
   "source": [
    "df.groupby(\"Road_traffic_density\")[\"Time_taken(min)\"].mean()"
   ]
  },
  {
   "cell_type": "code",
   "execution_count": 119,
   "id": "a6869258",
   "metadata": {},
   "outputs": [
    {
     "data": {
      "text/plain": [
       "Road_traffic_density\n",
       "Jam        43.956522\n",
       "Medium     25.884997\n",
       "High       24.317446\n",
       "Low         6.380295\n",
       "Name: is_delayed, dtype: float64"
      ]
     },
     "execution_count": 119,
     "metadata": {},
     "output_type": "execute_result"
    }
   ],
   "source": [
    "(df.groupby('Road_traffic_density')['is_delayed'].mean() * 100).sort_values(ascending=False)"
   ]
  },
  {
   "cell_type": "code",
   "execution_count": 120,
   "id": "5e415333",
   "metadata": {},
   "outputs": [
    {
     "data": {
      "text/plain": [
       "0        2\n",
       "1        2\n",
       "2        0\n",
       "3        0\n",
       "4        1\n",
       "        ..\n",
       "45588    1\n",
       "45589    0\n",
       "45590    1\n",
       "45591    0\n",
       "45592    2\n",
       "Name: Vehicle_condition, Length: 43862, dtype: int64"
      ]
     },
     "execution_count": 120,
     "metadata": {},
     "output_type": "execute_result"
    }
   ],
   "source": [
    "df[\"Vehicle_condition\"]"
   ]
  },
  {
   "cell_type": "code",
   "execution_count": 121,
   "id": "3a462506",
   "metadata": {},
   "outputs": [
    {
     "data": {
      "text/plain": [
       "Vehicle_condition\n",
       "0    30.051565\n",
       "1    24.369296\n",
       "2    24.467354\n",
       "Name: Time_taken(min), dtype: float64"
      ]
     },
     "execution_count": 121,
     "metadata": {},
     "output_type": "execute_result"
    }
   ],
   "source": [
    "\n",
    "df.groupby(\"Vehicle_condition\")[\"Time_taken(min)\"].mean()"
   ]
  },
  {
   "cell_type": "code",
   "execution_count": 122,
   "id": "b5375c13",
   "metadata": {},
   "outputs": [
    {
     "data": {
      "text/plain": [
       "Vehicle_condition\n",
       "0    36.444566\n",
       "1    18.909489\n",
       "2    18.822565\n",
       "Name: is_delayed, dtype: float64"
      ]
     },
     "execution_count": 122,
     "metadata": {},
     "output_type": "execute_result"
    }
   ],
   "source": [
    "(df.groupby('Vehicle_condition')['is_delayed'].mean() * 100).sort_values(ascending=False)"
   ]
  },
  {
   "cell_type": "code",
   "execution_count": 123,
   "id": "3141accc",
   "metadata": {},
   "outputs": [
    {
     "data": {
      "text/plain": [
       "multiple_deliveries\n",
       "0       22.865028\n",
       "1       26.864600\n",
       "2       40.427604\n",
       "3       47.816327\n",
       "NaN     22.711559\n",
       "Name: Time_taken(min), dtype: float64"
      ]
     },
     "execution_count": 123,
     "metadata": {},
     "output_type": "execute_result"
    }
   ],
   "source": [
    "\n",
    "df.groupby(\"multiple_deliveries\")[\"Time_taken(min)\"].mean()"
   ]
  },
  {
   "cell_type": "code",
   "execution_count": 124,
   "id": "6d232aa6",
   "metadata": {},
   "outputs": [
    {
     "data": {
      "text/plain": [
       "multiple_deliveries\n",
       "3       100.000000\n",
       "2        97.760417\n",
       "1        24.057928\n",
       "0        14.534884\n",
       "NaN      14.316013\n",
       "Name: is_delayed, dtype: float64"
      ]
     },
     "execution_count": 124,
     "metadata": {},
     "output_type": "execute_result"
    }
   ],
   "source": [
    "(df.groupby('multiple_deliveries')['is_delayed'].mean() * 100).sort_values(ascending=False)"
   ]
  },
  {
   "cell_type": "code",
   "execution_count": 125,
   "id": "abe90eb8",
   "metadata": {},
   "outputs": [
    {
     "data": {
      "text/plain": [
       "Festival\n",
       "NaN     11.182648\n",
       "No      25.986444\n",
       "Yes     45.501750\n",
       "Name: Time_taken(min), dtype: float64"
      ]
     },
     "execution_count": 125,
     "metadata": {},
     "output_type": "execute_result"
    }
   ],
   "source": [
    "\n",
    "df.groupby(\"Festival\")[\"Time_taken(min)\"].mean()"
   ]
  },
  {
   "cell_type": "code",
   "execution_count": 126,
   "id": "3f15d0d1",
   "metadata": {},
   "outputs": [
    {
     "data": {
      "text/plain": [
       "Festival\n",
       "Yes     100.000000\n",
       "No       23.337073\n",
       "NaN       0.000000\n",
       "Name: is_delayed, dtype: float64"
      ]
     },
     "execution_count": 126,
     "metadata": {},
     "output_type": "execute_result"
    }
   ],
   "source": [
    "(df.groupby('Festival')['is_delayed'].mean() * 100).sort_values(ascending=False)"
   ]
  },
  {
   "cell_type": "code",
   "execution_count": 127,
   "id": "2bbf49bd",
   "metadata": {},
   "outputs": [
    {
     "data": {
      "text/plain": [
       "Type_of_vehicle\n",
       "electric_scooter     24.407187\n",
       "motorcycle           27.600905\n",
       "scooter              24.467574\n",
       "Name: Time_taken(min), dtype: float64"
      ]
     },
     "execution_count": 127,
     "metadata": {},
     "output_type": "execute_result"
    }
   ],
   "source": [
    "\n",
    "df.groupby(\"Type_of_vehicle\")[\"Time_taken(min)\"].mean()"
   ]
  },
  {
   "cell_type": "code",
   "execution_count": 128,
   "id": "b7477db6",
   "metadata": {},
   "outputs": [
    {
     "data": {
      "text/plain": [
       "Type_of_vehicle\n",
       "motorcycle           28.787110\n",
       "scooter              19.197006\n",
       "electric_scooter     18.166384\n",
       "Name: is_delayed, dtype: float64"
      ]
     },
     "execution_count": 128,
     "metadata": {},
     "output_type": "execute_result"
    }
   ],
   "source": [
    "(df.groupby('Type_of_vehicle')['is_delayed'].mean() * 100).sort_values(ascending=False)"
   ]
  },
  {
   "cell_type": "code",
   "execution_count": null,
   "id": "5a2f6fd4",
   "metadata": {},
   "outputs": [
    {
     "data": {
      "text/plain": [
       "29.576996727685255"
      ]
     },
     "execution_count": 129,
     "metadata": {},
     "output_type": "execute_result"
    }
   ],
   "source": [
    "# Mean delivery time for each age above 30\n",
    "(df[df['Delivery_person_Age'] > 30].groupby(\"Delivery_person_Age\")[\"Time_taken(min)\"].mean()).mean()"
   ]
  },
  {
   "cell_type": "code",
   "execution_count": 130,
   "id": "82a34c2a",
   "metadata": {},
   "outputs": [
    {
     "data": {
      "text/plain": [
       "22.990284116705748"
      ]
     },
     "execution_count": 130,
     "metadata": {},
     "output_type": "execute_result"
    }
   ],
   "source": [
    "# Mean delivery time for each age less than 30\n",
    "(df[df['Delivery_person_Age'] < 30].groupby(\"Delivery_person_Age\")[\"Time_taken(min)\"].mean()).mean()"
   ]
  },
  {
   "cell_type": "code",
   "execution_count": 131,
   "id": "282c12a6",
   "metadata": {},
   "outputs": [
    {
     "data": {
      "text/plain": [
       "22.99978869249219"
      ]
     },
     "execution_count": 131,
     "metadata": {},
     "output_type": "execute_result"
    }
   ],
   "source": [
    "# Mean delivery time for each age above 30\n",
    "(df[df['Delivery_person_Age'] <25].groupby(\"Delivery_person_Age\")[\"Time_taken(min)\"].mean()).mean()"
   ]
  },
  {
   "cell_type": "code",
   "execution_count": 132,
   "id": "ab9d593d",
   "metadata": {},
   "outputs": [
    {
     "data": {
      "text/plain": [
       "Delivery_person_Ratings\n",
       "2.5    37.300000\n",
       "2.6    38.590909\n",
       "2.7    35.863636\n",
       "2.8    36.631579\n",
       "2.9    38.526316\n",
       "3.0    32.666667\n",
       "3.1    36.551724\n",
       "3.2    36.344828\n",
       "3.3    36.040000\n",
       "3.4    35.718750\n",
       "3.5    37.056225\n",
       "3.6    37.289855\n",
       "3.7    37.360000\n",
       "3.8    37.100877\n",
       "3.9    37.492386\n",
       "4.0    34.744661\n",
       "4.1    34.530070\n",
       "4.2    34.532440\n",
       "4.3    34.629524\n",
       "4.4    34.834680\n",
       "4.5    23.645171\n",
       "4.6    24.569597\n",
       "4.7    24.170540\n",
       "4.8    24.025602\n",
       "4.9    24.123136\n",
       "5.0    25.531281\n",
       "Name: Time_taken(min), dtype: float64"
      ]
     },
     "execution_count": 132,
     "metadata": {},
     "output_type": "execute_result"
    }
   ],
   "source": [
    "\n",
    "df.groupby(\"Delivery_person_Ratings\")[\"Time_taken(min)\"].mean()"
   ]
  },
  {
   "cell_type": "code",
   "execution_count": 133,
   "id": "2fa35567",
   "metadata": {},
   "outputs": [
    {
     "name": "stderr",
     "output_type": "stream",
     "text": [
      "C:\\Users\\Akashay\\AppData\\Local\\Temp\\ipykernel_9728\\3259512089.py:6: FutureWarning: The default of observed=False is deprecated and will be changed to True in a future version of pandas. Pass observed=False to retain current behavior or observed=True to adopt the future default and silence this warning.\n",
      "  rating_analysis = df.groupby('rating_group')['Time_taken(min)'].agg([\n"
     ]
    },
    {
     "data": {
      "text/html": [
       "<div>\n",
       "<style scoped>\n",
       "    .dataframe tbody tr th:only-of-type {\n",
       "        vertical-align: middle;\n",
       "    }\n",
       "\n",
       "    .dataframe tbody tr th {\n",
       "        vertical-align: top;\n",
       "    }\n",
       "\n",
       "    .dataframe thead th {\n",
       "        text-align: right;\n",
       "    }\n",
       "</style>\n",
       "<table border=\"1\" class=\"dataframe\">\n",
       "  <thead>\n",
       "    <tr style=\"text-align: right;\">\n",
       "      <th></th>\n",
       "      <th>mean</th>\n",
       "      <th>median</th>\n",
       "      <th>count</th>\n",
       "    </tr>\n",
       "    <tr>\n",
       "      <th>rating_group</th>\n",
       "      <th></th>\n",
       "      <th></th>\n",
       "      <th></th>\n",
       "    </tr>\n",
       "  </thead>\n",
       "  <tbody>\n",
       "    <tr>\n",
       "      <th>Low (≤3.5)</th>\n",
       "      <td>36.85</td>\n",
       "      <td>36.0</td>\n",
       "      <td>472</td>\n",
       "    </tr>\n",
       "    <tr>\n",
       "      <th>Medium (3.5-4.0)</th>\n",
       "      <td>35.88</td>\n",
       "      <td>35.0</td>\n",
       "      <td>1934</td>\n",
       "    </tr>\n",
       "    <tr>\n",
       "      <th>Good (4.0-4.5)</th>\n",
       "      <td>30.56</td>\n",
       "      <td>32.0</td>\n",
       "      <td>8921</td>\n",
       "    </tr>\n",
       "    <tr>\n",
       "      <th>Excellent (4.5-5.0)</th>\n",
       "      <td>24.38</td>\n",
       "      <td>24.0</td>\n",
       "      <td>32267</td>\n",
       "    </tr>\n",
       "  </tbody>\n",
       "</table>\n",
       "</div>"
      ],
      "text/plain": [
       "                      mean  median  count\n",
       "rating_group                             \n",
       "Low (≤3.5)           36.85    36.0    472\n",
       "Medium (3.5-4.0)     35.88    35.0   1934\n",
       "Good (4.0-4.5)       30.56    32.0   8921\n",
       "Excellent (4.5-5.0)  24.38    24.0  32267"
      ]
     },
     "execution_count": 133,
     "metadata": {},
     "output_type": "execute_result"
    }
   ],
   "source": [
    "\n",
    "    # Rating groups analysis\n",
    "df['rating_group'] = pd.cut(df['Delivery_person_Ratings'], \n",
    "                               bins=[0, 3.5, 4.0, 4.5, 5.0], \n",
    "                               labels=['Low (≤3.5)', 'Medium (3.5-4.0)', 'Good (4.0-4.5)', 'Excellent (4.5-5.0)'])\n",
    "    \n",
    "rating_analysis = df.groupby('rating_group')['Time_taken(min)'].agg([\n",
    "        'mean', 'median', 'count'\n",
    "    ]).round(2)\n",
    "rating_analysis"
   ]
  },
  {
   "cell_type": "code",
   "execution_count": 134,
   "id": "3ca2161d",
   "metadata": {},
   "outputs": [
    {
     "data": {
      "text/plain": [
       "rating_group\n",
       "Low (≤3.5)             81.144068\n",
       "Medium (3.5-4.0)       73.267839\n",
       "Good (4.0-4.5)         45.017375\n",
       "Excellent (4.5-5.0)    15.368643\n",
       "Name: is_delayed, dtype: float64"
      ]
     },
     "execution_count": 134,
     "metadata": {},
     "output_type": "execute_result"
    }
   ],
   "source": [
    "df.groupby('rating_group', observed=True)['is_delayed'].mean() * 100"
   ]
  },
  {
   "cell_type": "code",
   "execution_count": 135,
   "id": "ebd1f62b",
   "metadata": {},
   "outputs": [
    {
     "data": {
      "text/html": [
       "<div>\n",
       "<style scoped>\n",
       "    .dataframe tbody tr th:only-of-type {\n",
       "        vertical-align: middle;\n",
       "    }\n",
       "\n",
       "    .dataframe tbody tr th {\n",
       "        vertical-align: top;\n",
       "    }\n",
       "\n",
       "    .dataframe thead th {\n",
       "        text-align: right;\n",
       "    }\n",
       "</style>\n",
       "<table border=\"1\" class=\"dataframe\">\n",
       "  <thead>\n",
       "    <tr style=\"text-align: right;\">\n",
       "      <th></th>\n",
       "      <th>mean</th>\n",
       "      <th>median</th>\n",
       "      <th>count</th>\n",
       "    </tr>\n",
       "    <tr>\n",
       "      <th>age_group</th>\n",
       "      <th></th>\n",
       "      <th></th>\n",
       "      <th></th>\n",
       "    </tr>\n",
       "  </thead>\n",
       "  <tbody>\n",
       "    <tr>\n",
       "      <th>18-25</th>\n",
       "      <td>22.97</td>\n",
       "      <td>22.0</td>\n",
       "      <td>12956</td>\n",
       "    </tr>\n",
       "    <tr>\n",
       "      <th>26-35</th>\n",
       "      <td>26.97</td>\n",
       "      <td>26.0</td>\n",
       "      <td>21842</td>\n",
       "    </tr>\n",
       "    <tr>\n",
       "      <th>36-45</th>\n",
       "      <td>29.48</td>\n",
       "      <td>29.0</td>\n",
       "      <td>8850</td>\n",
       "    </tr>\n",
       "  </tbody>\n",
       "</table>\n",
       "</div>"
      ],
      "text/plain": [
       "            mean  median  count\n",
       "age_group                      \n",
       "18-25      22.97    22.0  12956\n",
       "26-35      26.97    26.0  21842\n",
       "36-45      29.48    29.0   8850"
      ]
     },
     "execution_count": 135,
     "metadata": {},
     "output_type": "execute_result"
    }
   ],
   "source": [
    "# Age groups analysis\n",
    "df['age_group'] = pd.cut(df['Delivery_person_Age'], \n",
    "                            bins=[0, 25, 35, 45, 100], \n",
    "                            labels=['18-25', '26-35', '36-45', '45+'])\n",
    "    \n",
    "age_analysis = df.groupby('age_group', observed=True)['Time_taken(min)'].agg([\n",
    "        'mean', 'median', 'count'\n",
    "    ]).round(2)\n",
    "\n",
    "age_analysis"
   ]
  },
  {
   "cell_type": "code",
   "execution_count": 136,
   "id": "04e28ab7",
   "metadata": {},
   "outputs": [
    {
     "data": {
      "text/plain": [
       "age_group\n",
       "18-25    14.495215\n",
       "26-35    26.801575\n",
       "36-45    34.508475\n",
       "Name: is_delayed, dtype: float64"
      ]
     },
     "execution_count": 136,
     "metadata": {},
     "output_type": "execute_result"
    }
   ],
   "source": [
    "\n",
    "df.groupby('age_group', observed=True)['is_delayed'].mean() * 100\n",
    "    "
   ]
  },
  {
   "cell_type": "code",
   "execution_count": null,
   "id": "5d085147",
   "metadata": {},
   "outputs": [],
   "source": []
  },
  {
   "cell_type": "code",
   "execution_count": 137,
   "id": "0ccc95cb",
   "metadata": {},
   "outputs": [
    {
     "data": {
      "text/plain": [
       "City\n",
       "Metropolitian     27.309402\n",
       "NaN               22.078671\n",
       "Semi-Urban        49.737179\n",
       "Urban             23.000000\n",
       "Name: Time_taken(min), dtype: float64"
      ]
     },
     "execution_count": 137,
     "metadata": {},
     "output_type": "execute_result"
    }
   ],
   "source": [
    "\n",
    "df.groupby(\"City\")[\"Time_taken(min)\"].mean()"
   ]
  },
  {
   "cell_type": "code",
   "execution_count": 138,
   "id": "a5ec00af",
   "metadata": {},
   "outputs": [
    {
     "data": {
      "text/plain": [
       "City\n",
       "Semi-Urban        100.000000\n",
       "Metropolitian      27.699531\n",
       "Urban              14.948770\n",
       "NaN                12.325175\n",
       "Name: is_delayed, dtype: float64"
      ]
     },
     "execution_count": 138,
     "metadata": {},
     "output_type": "execute_result"
    }
   ],
   "source": [
    "(df.groupby('City')['is_delayed'].mean() * 100).sort_values(ascending=False)"
   ]
  },
  {
   "cell_type": "code",
   "execution_count": 139,
   "id": "ca4075c7",
   "metadata": {},
   "outputs": [
    {
     "data": {
      "text/plain": [
       "Type_of_order\n",
       "Buffet     26.285925\n",
       "Drinks     26.198679\n",
       "Meal       26.417136\n",
       "Snack      26.272563\n",
       "Name: Time_taken(min), dtype: float64"
      ]
     },
     "execution_count": 139,
     "metadata": {},
     "output_type": "execute_result"
    }
   ],
   "source": [
    "\n",
    "df.groupby(\"Type_of_order\")[\"Time_taken(min)\"].mean()"
   ]
  },
  {
   "cell_type": "code",
   "execution_count": 140,
   "id": "3abe6ca5",
   "metadata": {},
   "outputs": [
    {
     "ename": "KeyError",
     "evalue": "'Avg_Time'",
     "output_type": "error",
     "traceback": [
      "\u001b[1;31m---------------------------------------------------------------------------\u001b[0m",
      "\u001b[1;31mKeyError\u001b[0m                                  Traceback (most recent call last)",
      "\u001b[1;32m~\\AppData\\Local\\Temp\\ipykernel_9728\\259170625.py\u001b[0m in \u001b[0;36m?\u001b[1;34m()\u001b[0m\n\u001b[0;32m      1\u001b[0m \u001b[0mcity_performance\u001b[0m \u001b[1;33m=\u001b[0m \u001b[0mdf\u001b[0m\u001b[1;33m.\u001b[0m\u001b[0mgroupby\u001b[0m\u001b[1;33m(\u001b[0m\u001b[1;34m'City'\u001b[0m\u001b[1;33m)\u001b[0m\u001b[1;33m[\u001b[0m\u001b[1;34m'Time_taken(min)'\u001b[0m\u001b[1;33m]\u001b[0m\u001b[1;33m.\u001b[0m\u001b[0magg\u001b[0m\u001b[1;33m(\u001b[0m\u001b[1;33m[\u001b[0m\u001b[1;34m'mean'\u001b[0m\u001b[1;33m,\u001b[0m \u001b[1;34m'median'\u001b[0m\u001b[1;33m,\u001b[0m \u001b[1;34m'std'\u001b[0m\u001b[1;33m,\u001b[0m \u001b[1;34m'count'\u001b[0m\u001b[1;33m]\u001b[0m\u001b[1;33m)\u001b[0m\u001b[1;33m.\u001b[0m\u001b[0mround\u001b[0m\u001b[1;33m(\u001b[0m\u001b[1;36m2\u001b[0m\u001b[1;33m)\u001b[0m\u001b[1;33m\u001b[0m\u001b[1;33m\u001b[0m\u001b[0m\n\u001b[0;32m      2\u001b[0m \u001b[1;33m\u001b[0m\u001b[0m\n\u001b[1;32m----> 3\u001b[1;33m \u001b[0mcity_performance\u001b[0m \u001b[1;33m=\u001b[0m \u001b[0mcity_performance\u001b[0m\u001b[1;33m.\u001b[0m\u001b[0msort_values\u001b[0m\u001b[1;33m(\u001b[0m\u001b[1;34m'Avg_Time'\u001b[0m\u001b[1;33m)\u001b[0m\u001b[1;33m\u001b[0m\u001b[1;33m\u001b[0m\u001b[0m\n\u001b[0m\u001b[0;32m      4\u001b[0m \u001b[0mcity_performance\u001b[0m\u001b[1;33m\u001b[0m\u001b[1;33m\u001b[0m\u001b[0m\n",
      "\u001b[1;32mc:\\Users\\Akashay\\AppData\\Local\\Programs\\Python\\Python311\\Lib\\site-packages\\pandas\\core\\frame.py\u001b[0m in \u001b[0;36m?\u001b[1;34m(self, by, axis, ascending, inplace, kind, na_position, ignore_index, key)\u001b[0m\n\u001b[0;32m   7192\u001b[0m             )\n\u001b[0;32m   7193\u001b[0m         \u001b[1;32melif\u001b[0m \u001b[0mlen\u001b[0m\u001b[1;33m(\u001b[0m\u001b[0mby\u001b[0m\u001b[1;33m)\u001b[0m\u001b[1;33m:\u001b[0m\u001b[1;33m\u001b[0m\u001b[1;33m\u001b[0m\u001b[0m\n\u001b[0;32m   7194\u001b[0m             \u001b[1;31m# len(by) == 1\u001b[0m\u001b[1;33m\u001b[0m\u001b[1;33m\u001b[0m\u001b[0m\n\u001b[0;32m   7195\u001b[0m \u001b[1;33m\u001b[0m\u001b[0m\n\u001b[1;32m-> 7196\u001b[1;33m             \u001b[0mk\u001b[0m \u001b[1;33m=\u001b[0m \u001b[0mself\u001b[0m\u001b[1;33m.\u001b[0m\u001b[0m_get_label_or_level_values\u001b[0m\u001b[1;33m(\u001b[0m\u001b[0mby\u001b[0m\u001b[1;33m[\u001b[0m\u001b[1;36m0\u001b[0m\u001b[1;33m]\u001b[0m\u001b[1;33m,\u001b[0m \u001b[0maxis\u001b[0m\u001b[1;33m=\u001b[0m\u001b[0maxis\u001b[0m\u001b[1;33m)\u001b[0m\u001b[1;33m\u001b[0m\u001b[1;33m\u001b[0m\u001b[0m\n\u001b[0m\u001b[0;32m   7197\u001b[0m \u001b[1;33m\u001b[0m\u001b[0m\n\u001b[0;32m   7198\u001b[0m             \u001b[1;31m# need to rewrap column in Series to apply key function\u001b[0m\u001b[1;33m\u001b[0m\u001b[1;33m\u001b[0m\u001b[0m\n\u001b[0;32m   7199\u001b[0m             \u001b[1;32mif\u001b[0m \u001b[0mkey\u001b[0m \u001b[1;32mis\u001b[0m \u001b[1;32mnot\u001b[0m \u001b[1;32mNone\u001b[0m\u001b[1;33m:\u001b[0m\u001b[1;33m\u001b[0m\u001b[1;33m\u001b[0m\u001b[0m\n",
      "\u001b[1;32mc:\\Users\\Akashay\\AppData\\Local\\Programs\\Python\\Python311\\Lib\\site-packages\\pandas\\core\\generic.py\u001b[0m in \u001b[0;36m?\u001b[1;34m(self, key, axis)\u001b[0m\n\u001b[0;32m   1907\u001b[0m             \u001b[0mvalues\u001b[0m \u001b[1;33m=\u001b[0m \u001b[0mself\u001b[0m\u001b[1;33m.\u001b[0m\u001b[0mxs\u001b[0m\u001b[1;33m(\u001b[0m\u001b[0mkey\u001b[0m\u001b[1;33m,\u001b[0m \u001b[0maxis\u001b[0m\u001b[1;33m=\u001b[0m\u001b[0mother_axes\u001b[0m\u001b[1;33m[\u001b[0m\u001b[1;36m0\u001b[0m\u001b[1;33m]\u001b[0m\u001b[1;33m)\u001b[0m\u001b[1;33m.\u001b[0m\u001b[0m_values\u001b[0m\u001b[1;33m\u001b[0m\u001b[1;33m\u001b[0m\u001b[0m\n\u001b[0;32m   1908\u001b[0m         \u001b[1;32melif\u001b[0m \u001b[0mself\u001b[0m\u001b[1;33m.\u001b[0m\u001b[0m_is_level_reference\u001b[0m\u001b[1;33m(\u001b[0m\u001b[0mkey\u001b[0m\u001b[1;33m,\u001b[0m \u001b[0maxis\u001b[0m\u001b[1;33m=\u001b[0m\u001b[0maxis\u001b[0m\u001b[1;33m)\u001b[0m\u001b[1;33m:\u001b[0m\u001b[1;33m\u001b[0m\u001b[1;33m\u001b[0m\u001b[0m\n\u001b[0;32m   1909\u001b[0m             \u001b[0mvalues\u001b[0m \u001b[1;33m=\u001b[0m \u001b[0mself\u001b[0m\u001b[1;33m.\u001b[0m\u001b[0maxes\u001b[0m\u001b[1;33m[\u001b[0m\u001b[0maxis\u001b[0m\u001b[1;33m]\u001b[0m\u001b[1;33m.\u001b[0m\u001b[0mget_level_values\u001b[0m\u001b[1;33m(\u001b[0m\u001b[0mkey\u001b[0m\u001b[1;33m)\u001b[0m\u001b[1;33m.\u001b[0m\u001b[0m_values\u001b[0m\u001b[1;33m\u001b[0m\u001b[1;33m\u001b[0m\u001b[0m\n\u001b[0;32m   1910\u001b[0m         \u001b[1;32melse\u001b[0m\u001b[1;33m:\u001b[0m\u001b[1;33m\u001b[0m\u001b[1;33m\u001b[0m\u001b[0m\n\u001b[1;32m-> 1911\u001b[1;33m             \u001b[1;32mraise\u001b[0m \u001b[0mKeyError\u001b[0m\u001b[1;33m(\u001b[0m\u001b[0mkey\u001b[0m\u001b[1;33m)\u001b[0m\u001b[1;33m\u001b[0m\u001b[1;33m\u001b[0m\u001b[0m\n\u001b[0m\u001b[0;32m   1912\u001b[0m \u001b[1;33m\u001b[0m\u001b[0m\n\u001b[0;32m   1913\u001b[0m         \u001b[1;31m# Check for duplicates\u001b[0m\u001b[1;33m\u001b[0m\u001b[1;33m\u001b[0m\u001b[0m\n\u001b[0;32m   1914\u001b[0m         \u001b[1;32mif\u001b[0m \u001b[0mvalues\u001b[0m\u001b[1;33m.\u001b[0m\u001b[0mndim\u001b[0m \u001b[1;33m>\u001b[0m \u001b[1;36m1\u001b[0m\u001b[1;33m:\u001b[0m\u001b[1;33m\u001b[0m\u001b[1;33m\u001b[0m\u001b[0m\n",
      "\u001b[1;31mKeyError\u001b[0m: 'Avg_Time'"
     ]
    }
   ],
   "source": [
    "city_performance = df.groupby('City')['Time_taken(min)'].agg(['mean', 'median', 'std', 'count']).round(2)\n",
    "\n",
    "city_performance = city_performance.sort_values('Avg_Time')\n",
    "city_performance\n"
   ]
  },
  {
   "cell_type": "code",
   "execution_count": null,
   "id": "b843eaca",
   "metadata": {},
   "outputs": [
    {
     "name": "stdout",
     "output_type": "stream",
     "text": [
      "                 mean  median   std  count\n",
      "City                                      \n",
      "Metropolitian   27.31    26.0  9.17  32802\n",
      "NaN             22.08    21.0  8.37   1144\n",
      "Semi-Urban      49.74    49.0  2.73    156\n",
      "Urban           23.00    22.0  8.87   9760\n"
     ]
    }
   ],
   "source": [
    "\n",
    "print(city_performance.head(10))\n"
   ]
  },
  {
   "cell_type": "code",
   "execution_count": null,
   "id": "10c8d718",
   "metadata": {},
   "outputs": [],
   "source": [
    "\n",
    "print(city_performance.tail(10))"
   ]
  }
 ],
 "metadata": {
  "kernelspec": {
   "display_name": "Python 3",
   "language": "python",
   "name": "python3"
  },
  "language_info": {
   "codemirror_mode": {
    "name": "ipython",
    "version": 3
   },
   "file_extension": ".py",
   "mimetype": "text/x-python",
   "name": "python",
   "nbconvert_exporter": "python",
   "pygments_lexer": "ipython3",
   "version": "3.11.3"
  }
 },
 "nbformat": 4,
 "nbformat_minor": 5
}
